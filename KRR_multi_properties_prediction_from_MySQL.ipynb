{
 "cells": [
  {
   "cell_type": "markdown",
   "metadata": {},
   "source": [
    "The code below predicts multiple molecular properties by Kernel ridge regression(KRR). The number of molecules is 109, up to 60 molecules are used as samples to \"train\" the KRR model, and the rest are \"out-of-sample\" molecules. "
   ]
  },
  {
   "cell_type": "code",
   "execution_count": 36,
   "metadata": {
    "collapsed": true
   },
   "outputs": [],
   "source": [
    "import numpy as np;\n",
    "import scipy.io;\n",
    "import random;\n",
    "import os;\n",
    "import scipy.spatial.distance as scipy_distance"
   ]
  },
  {
   "cell_type": "code",
   "execution_count": 37,
   "metadata": {},
   "outputs": [],
   "source": [
    "os.chdir('D:/tensorflow_work/retrieve_from_mysql')"
   ]
  },
  {
   "cell_type": "code",
   "execution_count": 38,
   "metadata": {},
   "outputs": [
    {
     "name": "stdout",
     "output_type": "stream",
     "text": [
      "['.git', 'KRR_multi_properties_prediction_from_MySQL.ipynb', 'molecular.mat', 'mysql.py']\n"
     ]
    }
   ],
   "source": [
    "local_dir =os.listdir()\n",
    "print(local_dir)"
   ]
  },
  {
   "cell_type": "code",
   "execution_count": 39,
   "metadata": {},
   "outputs": [
    {
     "data": {
      "text/plain": [
       "dict"
      ]
     },
     "execution_count": 39,
     "metadata": {},
     "output_type": "execute_result"
    }
   ],
   "source": [
    "mol_data = scipy.io.loadmat('molecular.mat');\n",
    "\n",
    "type(mol_data)"
   ]
  },
  {
   "cell_type": "code",
   "execution_count": 40,
   "metadata": {},
   "outputs": [
    {
     "data": {
      "text/plain": [
       "dict_keys(['__header__', '__version__', '__globals__', 'id', 'xyzs0', 'atomnum', 'elementid', 'colomb_matrix', 'colomb_matrix_eigenvalues', 'r2', 'cv', 'u0', 'homo', 'lumo'])"
      ]
     },
     "execution_count": 40,
     "metadata": {},
     "output_type": "execute_result"
    }
   ],
   "source": [
    "mol_data.keys()"
   ]
  },
  {
   "cell_type": "code",
   "execution_count": 41,
   "metadata": {
    "collapsed": true
   },
   "outputs": [],
   "source": [
    "def distance_matrix_of_cm_eigenvalue(cm_eigenvalue_set1,cm_eigenvalue_set2,lp=2):\n",
    "\n",
    "        distance_matrix = scipy_distance.cdist(cm_eigenvalue_set1,cm_eigenvalue_set2,'minkowski',lp)\n",
    "       \n",
    "        return distance_matrix\n",
    "# d_ij = lp-norm distance between the i-th vector in set1 and the j-th vector in set2. \n",
    "# when Euclidean distance, choose lp=2.0 ."
   ]
  },
  {
   "cell_type": "code",
   "execution_count": 42,
   "metadata": {
    "collapsed": true
   },
   "outputs": [],
   "source": [
    "def gaussian_k(distance_matrix,sigma):\n",
    "    k_matrix = np.exp(-1.0*distance_matrix/sigma)\n",
    "    return k_matrix\n",
    "# k_ij = exp(-1*d_ij/sigma)"
   ]
  },
  {
   "cell_type": "code",
   "execution_count": 43,
   "metadata": {
    "collapsed": true
   },
   "outputs": [],
   "source": [
    "def inverse_k_matrix(k_matrix,lambda0):\n",
    "    k_matrix_dimension = np.shape(k_matrix) \n",
    "    k_matrix = k_matrix + lambda0*np.eye(k_matrix_dimension[1])\n",
    "    k_matrix = np.mat(k_matrix)      # Convert the numpy array K_matrix into a numpy matrix    \n",
    "  \n",
    "    inverse_k = k_matrix.I\n",
    "    inverse_k = np.array(inverse_k)   \n",
    "    return inverse_k\n",
    "# inverse_k = (k_matrix+lambda0*I_matrix)^-1"
   ]
  },
  {
   "cell_type": "code",
   "execution_count": 44,
   "metadata": {
    "collapsed": true
   },
   "outputs": [],
   "source": [
    "def split_train_test(size,N_training,N_test):\n",
    "\n",
    "    index_entire = list(range(size))\n",
    "    random.shuffle(index_entire)\n",
    "    \n",
    "    index_training  = index_entire[0:N_training]\n",
    "    index_test      = index_entire[N_training:N_test+N_training]\n",
    "    \n",
    "    return index_training,index_test     # Return the indexes of molecules for test and training"
   ]
  },
  {
   "cell_type": "code",
   "execution_count": 45,
   "metadata": {
    "collapsed": true
   },
   "outputs": [],
   "source": [
    "N_training = 60\n",
    "N_test     = 30\n",
    "index_training,index_test = split_train_test(109,N_training,N_test)"
   ]
  },
  {
   "cell_type": "code",
   "execution_count": 63,
   "metadata": {},
   "outputs": [],
   "source": [
    "p = ['homo','lumo','r2','cv','u0'];\n",
    "p_unit = ['Hatree','Hatree','Bohr^2','cal/(mol*k)','Hatree']\n",
    "p_limit = [0.043,0.043,0.1,0.01,0.043]\n",
    "num_p = len(p)\n",
    "properties_training = np.zeros([N_training,num_p])\n",
    "properties_test = np.zeros([N_test,num_p])\n",
    "\n",
    "for i in list(range(num_p)):\n",
    "    properties_training[:,i]  = np.reshape(mol_data[p[i]][index_training],[N_training,])\n",
    "    properties_test[:,i]      = np.reshape(mol_data[p[i]][index_test],[N_test,])\n",
    "\n",
    "cm_eigenvalue_training     = mol_data['colomb_matrix_eigenvalues'][index_training]\n",
    "cm_eigenvalue_test         = mol_data['colomb_matrix_eigenvalues'][index_test]"
   ]
  },
  {
   "cell_type": "code",
   "execution_count": 64,
   "metadata": {},
   "outputs": [],
   "source": [
    "distance_matrix_training = distance_matrix_of_cm_eigenvalue(cm_eigenvalue_training,cm_eigenvalue_training,2.0)\n",
    "sigma                    = np.max(distance_matrix_training )/np.log(2.0)\n",
    "\n",
    "inverse_k                = inverse_k_matrix(distance_matrix_training,0.0)\n",
    "coeffiecients_alpha      = np.mat(inverse_k) * np.mat(properties_training)\n",
    "k_test_training          = distance_matrix_of_cm_eigenvalue(cm_eigenvalue_test,cm_eigenvalue_training)"
   ]
  },
  {
   "cell_type": "code",
   "execution_count": 65,
   "metadata": {
    "collapsed": true
   },
   "outputs": [],
   "source": [
    "properties_test_predict  = np.mat(k_test_training)*coeffiecients_alpha"
   ]
  },
  {
   "cell_type": "code",
   "execution_count": 66,
   "metadata": {
    "collapsed": true
   },
   "outputs": [],
   "source": [
    "delta = np.array(properties_test-properties_test_predict)\n",
    "mae   = np.sum(np.abs(delta),axis=0)/np.shape(delta)[0]\n",
    "rmse  = np.sqrt(np.sum(np.square(delta),axis=0)/np.shape(delta)[0])"
   ]
  },
  {
   "cell_type": "code",
   "execution_count": 67,
   "metadata": {},
   "outputs": [
    {
     "name": "stdout",
     "output_type": "stream",
     "text": [
      "['homo', 'lumo', 'r2', 'cv', 'u0']\n",
      "['Hatree', 'Hatree', 'Bohr^2', 'cal/(mol*k)', 'Hatree']\n",
      "[  0.12646131   0.12815564  32.81402935   1.45883248   1.72713393]\n",
      "[  0.17385532   0.16296989  43.35110884   1.84132207   2.48470221]\n",
      "[0.043, 0.043, 0.1, 0.01, 0.043]\n"
     ]
    }
   ],
   "source": [
    "print(p)\n",
    "print(p_unit)\n",
    "print(mae)\n",
    "print(rmse)\n",
    "print(p_limit)"
   ]
  },
  {
   "cell_type": "code",
   "execution_count": null,
   "metadata": {
    "collapsed": true
   },
   "outputs": [],
   "source": []
  }
 ],
 "metadata": {
  "kernelspec": {
   "display_name": "Python 3",
   "language": "python",
   "name": "python3"
  },
  "language_info": {
   "codemirror_mode": {
    "name": "ipython",
    "version": 3
   },
   "file_extension": ".py",
   "mimetype": "text/x-python",
   "name": "python",
   "nbconvert_exporter": "python",
   "pygments_lexer": "ipython3",
   "version": "3.6.1"
  }
 },
 "nbformat": 4,
 "nbformat_minor": 2
}
